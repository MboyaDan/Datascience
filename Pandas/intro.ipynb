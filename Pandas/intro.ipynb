#Pandas
#It has functions for analyzing, cleaning, exploring, and manipulating data.
#Datascience or dataanaytics is the process of analyzing large sets of data points to get answers on question related 
#to it

#Installation of pandas
#C:\Users\Your Name>pip install pandas

#process of cleaning data is called data munging or data wrangling