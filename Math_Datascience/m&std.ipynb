{
 "cells": [
  {
   "cell_type": "code",
   "execution_count": 1,
   "metadata": {},
   "outputs": [
    {
     "name": "stdout",
     "output_type": "stream",
     "text": [
      "1.2909944487358056\n",
      "1.3693063937629153\n"
     ]
    }
   ],
   "source": [
    "import numpy as np\n",
    "\n",
    "arr = [1, 1.5, 2, 2.5, 3, 3.5, 4, 4.5, 5]\n",
    "\n",
    "print(np.std(arr))\n",
    "\n",
    "''' Numpy uses Population Standard Deviation by default. i.e the denominator of the equation in N instead of N - 1 '''\n",
    "\n",
    "# 1.2909944487358056\n",
    "\n",
    "print(np.std(arr, ddof=1))"
   ]
  },
  {
   "cell_type": "markdown",
   "metadata": {},
   "source": [
    "Standard deviation-\n",
    "Standard deviation is a statistical measure of the amount of variation or dispersion in a set of values. It provides a way to quantify the extent to which individual data points in a dataset deviate from the mean (average) of the dataset. In other words, it measures the average distance between each data point and the mean.\n",
    "it's importance in datascience project ,it's required for transforming the data(time consuming)\n",
    "Before data transformation you must understand your data :std,mean,percentile and so on,the type of distribution it follows\n",
    "The standard practice of removing outliers point is removing outliers points that fall above mean + two std diviations or mean minus two std diviations\n",
    "\n",
    "variance =\n",
    "The standard deviation has several important roles in data analysis and data cleaning:\n",
    "\n",
    "Measuring Spread:\n",
    "Standard deviation quantifies the spread or dispersion of data points. A larger standard deviation indicates greater variability, while a smaller standard deviation suggests more consistency.\n",
    "\n",
    "Identifying Outliers:\n",
    "Outliers are data points that significantly deviate from the mean. Standard deviation helps identify outliers as data points that are far from the mean (e.g., those more than a certain number of standard deviations away).\n",
    "\n",
    "Normal Distribution Analysis:\n",
    "In a normal distribution, about 68% of the data falls within one standard deviation of the mean, 95% within two standard deviations, and 99.7% within three standard deviations. This property is often used in statistical analysis.\n",
    "\n",
    "Data Cleaning and Quality Control:\n",
    "In data cleaning, standard deviation can be used to identify data points that are inconsistent or unexpected. Data points that fall outside a certain range based on standard deviations may be flagged for further investigation.\n",
    "\n",
    "Standardization and Z-Scores:\n",
    "Standard deviation is used in the calculation of Z-scores, which standardize data by expressing values in terms of the number of standard deviations they are from the mean. This is useful for comparing data from different distributions.\n",
    "\n",
    "In summary, standard deviation is a key statistical metric that helps assess the variability and distribution of data, making it valuable in various aspects of data analysis and data cleaning.\n",
    "\n",
    "\n",
    "\n",
    "\n",
    "\n"
   ]
  },
  {
   "cell_type": "code",
   "execution_count": 5,
   "metadata": {},
   "outputs": [
    {
     "name": "stdout",
     "output_type": "stream",
     "text": [
      "1.2909944487358056\n"
     ]
    }
   ],
   "source": [
    "from math import sqrt\n",
    "\n",
    "def mean(numbers):\n",
    "    if len(numbers) > 0:\n",
    "        return sum(numbers) / len(numbers)\n",
    "    return float('Nan')\n",
    "\n",
    "\n",
    "def std_dev(numbers):\n",
    "    if len(numbers) > 0:\n",
    "        avg = mean(numbers)\n",
    "        variance = sum([(i - avg) ** 2 for i in numbers])/len(numbers)\n",
    "        standard_deviation = sqrt(variance)\n",
    "        return standard_deviation\n",
    "    return float('Nan')\n",
    "\n",
    "arr =[1,1.5,2,2.5,3,3.5,4,4.5,5]\n",
    "print(std_dev(arr))"
   ]
  },
  {
   "cell_type": "code",
   "execution_count": 4,
   "metadata": {},
   "outputs": [
    {
     "name": "stdout",
     "output_type": "stream",
     "text": [
      "1.3693063937629153\n"
     ]
    }
   ],
   "source": [
    "import statistics \n",
    "\n",
    "arr = [1,1.5,2,2.5,3,3.5,4,4.5,5]\n",
    "print(statistics.stdev(arr))"
   ]
  },
  {
   "cell_type": "code",
   "execution_count": 6,
   "metadata": {},
   "outputs": [
    {
     "name": "stdout",
     "output_type": "stream",
     "text": [
      "1.3693063937629153\n"
     ]
    }
   ],
   "source": [
    "import pandas as pd\n",
    "\n",
    "arr = [1,1.5,2,2.5,3,3.5,4,4.5,5]\n",
    "#creating a seris\n",
    "pandas_series = pd.Series(arr)\n",
    "\n",
    "print(pandas_series.std())"
   ]
  },
  {
   "cell_type": "code",
   "execution_count": 7,
   "metadata": {},
   "outputs": [
    {
     "name": "stdout",
     "output_type": "stream",
     "text": [
      "1.2909944487358056\n"
     ]
    }
   ],
   "source": [
    "#Numpy\n",
    "import numpy as np\n",
    "arr = [1, 1.5, 2, 2.5, 3, 3.5, 4, 4.5, 5]\n",
    "print(np.std(arr))"
   ]
  }
 ],
 "metadata": {
  "kernelspec": {
   "display_name": "Python 3",
   "language": "python",
   "name": "python3"
  },
  "language_info": {
   "codemirror_mode": {
    "name": "ipython",
    "version": 3
   },
   "file_extension": ".py",
   "mimetype": "text/x-python",
   "name": "python",
   "nbconvert_exporter": "python",
   "pygments_lexer": "ipython3",
   "version": "3.12.0"
  }
 },
 "nbformat": 4,
 "nbformat_minor": 2
}
